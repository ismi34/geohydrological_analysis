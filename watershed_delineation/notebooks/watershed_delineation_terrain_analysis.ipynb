{
 "cells": [
  {
   "cell_type": "code",
   "execution_count": 1,
   "id": "64444690-6924-4b53-ad23-c5b1618e78a3",
   "metadata": {},
   "outputs": [
    {
     "name": "stdout",
     "output_type": "stream",
     "text": [
      "C:\\Users\\kazii\\anaconda3\\envs\\hydrogeo310\\python.exe\n"
     ]
    }
   ],
   "source": [
    "import sys\n",
    "print(sys.executable)"
   ]
  },
  {
   "cell_type": "code",
   "execution_count": null,
   "id": "baca599b-cf7d-4369-86d7-989fb757be3d",
   "metadata": {},
   "outputs": [],
   "source": [
    "import pandas as pd"
   ]
  },
  {
   "cell_type": "code",
   "execution_count": null,
   "id": "49cf1235-d84d-4ec0-8980-142221f20717",
   "metadata": {},
   "outputs": [],
   "source": [
    "import pandas as pd\n",
    "import geopandas as gpd\n",
    "import numpy as np\n",
    "import rasterio\n",
    "import matplotlib.pyplot as plt\n",
    "from pathlib import Path"
   ]
  },
  {
   "cell_type": "code",
   "execution_count": 2,
   "id": "065ee118-ac5a-4131-ac2b-9f5ff7a0cc02",
   "metadata": {},
   "outputs": [
    {
     "name": "stdout",
     "output_type": "stream",
     "text": [
      "Collecting richdem\n",
      "  Using cached richdem-0.3.4.tar.gz (329 kB)\n",
      "  Installing build dependencies: started\n",
      "  Installing build dependencies: finished with status 'done'\n",
      "  Getting requirements to build wheel: started\n",
      "  Getting requirements to build wheel: finished with status 'done'\n",
      "  Preparing metadata (pyproject.toml): started\n",
      "  Preparing metadata (pyproject.toml): finished with status 'done'\n",
      "Requirement already satisfied: numpy<2,>=1.7 in c:\\users\\kazii\\appdata\\local\\packages\\pythonsoftwarefoundation.python.3.11_qbz5n2kfra8p0\\localcache\\local-packages\\python311\\site-packages (from richdem) (1.26.2)\n",
      "Building wheels for collected packages: richdem\n",
      "  Building wheel for richdem (pyproject.toml): started\n",
      "  Building wheel for richdem (pyproject.toml): finished with status 'error'\n",
      "Failed to build richdem\n",
      "Note: you may need to restart the kernel to use updated packages.\n"
     ]
    },
    {
     "name": "stderr",
     "output_type": "stream",
     "text": [
      "  error: subprocess-exited-with-error\n",
      "  \n",
      "  Building wheel for richdem (pyproject.toml) did not run successfully.\n",
      "  exit code: 1\n",
      "  \n",
      "  [100 lines of output]\n",
      "  C:\\Users\\kazii\\AppData\\Local\\Temp\\pip-build-env-6tnqj9he\\overlay\\Lib\\site-packages\\setuptools\\dist.py:599: SetuptoolsDeprecationWarning: Invalid dash-separated key 'description-file' in 'metadata' (setup.cfg), please use the underscore name 'description_file' instead.\n",
      "  !!\n",
      "  \n",
      "          ********************************************************************************\n",
      "          Usage of dash-separated 'description-file' will not be supported in future\n",
      "          versions. Please use the underscore name 'description_file' instead.\n",
      "          (Affected: richdem).\n",
      "  \n",
      "          By 2026-Mar-03, you need to update your project and remove deprecated calls\n",
      "          or your builds will no longer be supported.\n",
      "  \n",
      "          See https://setuptools.pypa.io/en/latest/userguide/declarative_config.html for details.\n",
      "          ********************************************************************************\n",
      "  \n",
      "  !!\n",
      "    opt = self._enforce_underscore(opt, section)\n",
      "  C:\\Users\\kazii\\AppData\\Local\\Temp\\pip-build-env-6tnqj9he\\overlay\\Lib\\site-packages\\setuptools\\dist.py:759: SetuptoolsDeprecationWarning: License classifiers are deprecated.\n",
      "  !!\n",
      "  \n",
      "          ********************************************************************************\n",
      "          Please consider removing the following classifiers in favor of a SPDX license expression:\n",
      "  \n",
      "          License :: OSI Approved :: GNU General Public License v3 (GPLv3)\n",
      "  \n",
      "          See https://packaging.python.org/en/latest/guides/writing-pyproject-toml/#license for details.\n",
      "          ********************************************************************************\n",
      "  \n",
      "  !!\n",
      "    self._finalize_license_expression()\n",
      "  Using RichDEM hash=Unknown, time=Unknown\n",
      "  running bdist_wheel\n",
      "  C:\\Users\\kazii\\AppData\\Local\\Temp\\pip-build-env-6tnqj9he\\overlay\\Lib\\site-packages\\setuptools\\_distutils\\cmd.py:135: SetuptoolsDeprecationWarning: bdist_wheel.universal is deprecated\n",
      "  !!\n",
      "  \n",
      "          ********************************************************************************\n",
      "          With Python 2.7 end-of-life, support for building universal wheels\n",
      "          (i.e., wheels that support both Python 2 and Python 3)\n",
      "          is being obviated.\n",
      "          Please discontinue using this option, or if you still need it,\n",
      "          file an issue with pypa/setuptools describing your use case.\n",
      "  \n",
      "          By 2025-Aug-30, you need to update your project and remove deprecated calls\n",
      "          or your builds will no longer be supported.\n",
      "          ********************************************************************************\n",
      "  \n",
      "  !!\n",
      "    self.finalize_options()\n",
      "  running build\n",
      "  running build_py\n",
      "  creating build\\lib.win-amd64-cpython-311\\richdem\n",
      "  copying richdem\\cli.py -> build\\lib.win-amd64-cpython-311\\richdem\n",
      "  copying richdem\\__init__.py -> build\\lib.win-amd64-cpython-311\\richdem\n",
      "  running build_ext\n",
      "  COMPILER msvc\n",
      "  COMPILER ARGUMENTS ['-std=c++11', '-g', '-fvisibility=hidden', '-O3']\n",
      "  building '_richdem' extension\n",
      "  creating build\\temp.win-amd64-cpython-311\\Release\\lib\\richdem\\common\n",
      "  creating build\\temp.win-amd64-cpython-311\\Release\\src\n",
      "  \"C:\\Program Files (x86)\\Microsoft Visual Studio\\2022\\BuildTools\\VC\\Tools\\MSVC\\14.38.33130\\bin\\HostX86\\x64\\cl.exe\" /c /nologo /O2 /W3 /GL /DNDEBUG /MD -DDOCTEST_CONFIG_DISABLE -DRICHDEM_COMPILE_TIME=\\\"\\\\\\\"Unknown\\\\\\\"\\\" -DRICHDEM_GIT_HASH=\\\"\\\\\\\"Unknown\\\\\\\"\\\" -DRICHDEM_LOGGING -D_USE_MATH_DEFINES -Ilib/ \"-IC:\\Program Files\\WindowsApps\\PythonSoftwareFoundation.Python.3.11_3.11.2544.0_x64__qbz5n2kfra8p0\\include\" \"-IC:\\Program Files\\WindowsApps\\PythonSoftwareFoundation.Python.3.11_3.11.2544.0_x64__qbz5n2kfra8p0\\Include\" \"-IC:\\Program Files (x86)\\Microsoft Visual Studio\\2022\\BuildTools\\VC\\Tools\\MSVC\\14.38.33130\\include\" \"-IC:\\Program Files (x86)\\Microsoft Visual Studio\\2022\\BuildTools\\VC\\Auxiliary\\VS\\include\" \"-IC:\\Program Files (x86)\\Windows Kits\\10\\include\\10.0.22621.0\\ucrt\" \"-IC:\\Program Files (x86)\\Windows Kits\\10\\\\include\\10.0.22621.0\\\\um\" \"-IC:\\Program Files (x86)\\Windows Kits\\10\\\\include\\10.0.22621.0\\\\shared\" \"-IC:\\Program Files (x86)\\Windows Kits\\10\\\\include\\10.0.22621.0\\\\winrt\" \"-IC:\\Program Files (x86)\\Windows Kits\\10\\\\include\\10.0.22621.0\\\\cppwinrt\" /EHsc /Tplib/richdem/common/random.cpp /Fobuild\\temp.win-amd64-cpython-311\\Release\\lib\\richdem\\common\\random.obj -std=c++11 -g -fvisibility=hidden -O3\n",
      "  cl : Command line warning D9002 : ignoring unknown option '-std=c++11'\n",
      "  cl : Command line warning D9002 : ignoring unknown option '-g'\n",
      "  cl : Command line warning D9002 : ignoring unknown option '-fvisibility=hidden'\n",
      "  cl : Command line warning D9002 : ignoring unknown option '-O3'\n",
      "  random.cpp\n",
      "  \"C:\\Program Files (x86)\\Microsoft Visual Studio\\2022\\BuildTools\\VC\\Tools\\MSVC\\14.38.33130\\bin\\HostX86\\x64\\cl.exe\" /c /nologo /O2 /W3 /GL /DNDEBUG /MD -DDOCTEST_CONFIG_DISABLE -DRICHDEM_COMPILE_TIME=\\\"\\\\\\\"Unknown\\\\\\\"\\\" -DRICHDEM_GIT_HASH=\\\"\\\\\\\"Unknown\\\\\\\"\\\" -DRICHDEM_LOGGING -D_USE_MATH_DEFINES -Ilib/ \"-IC:\\Program Files\\WindowsApps\\PythonSoftwareFoundation.Python.3.11_3.11.2544.0_x64__qbz5n2kfra8p0\\include\" \"-IC:\\Program Files\\WindowsApps\\PythonSoftwareFoundation.Python.3.11_3.11.2544.0_x64__qbz5n2kfra8p0\\Include\" \"-IC:\\Program Files (x86)\\Microsoft Visual Studio\\2022\\BuildTools\\VC\\Tools\\MSVC\\14.38.33130\\include\" \"-IC:\\Program Files (x86)\\Microsoft Visual Studio\\2022\\BuildTools\\VC\\Auxiliary\\VS\\include\" \"-IC:\\Program Files (x86)\\Windows Kits\\10\\include\\10.0.22621.0\\ucrt\" \"-IC:\\Program Files (x86)\\Windows Kits\\10\\\\include\\10.0.22621.0\\\\um\" \"-IC:\\Program Files (x86)\\Windows Kits\\10\\\\include\\10.0.22621.0\\\\shared\" \"-IC:\\Program Files (x86)\\Windows Kits\\10\\\\include\\10.0.22621.0\\\\winrt\" \"-IC:\\Program Files (x86)\\Windows Kits\\10\\\\include\\10.0.22621.0\\\\cppwinrt\" /EHsc /Tplib/richdem/richdem.cpp /Fobuild\\temp.win-amd64-cpython-311\\Release\\lib\\richdem\\richdem.obj -std=c++11 -g -fvisibility=hidden -O3\n",
      "  cl : Command line warning D9002 : ignoring unknown option '-std=c++11'\n",
      "  cl : Command line warning D9002 : ignoring unknown option '-g'\n",
      "  cl : Command line warning D9002 : ignoring unknown option '-fvisibility=hidden'\n",
      "  cl : Command line warning D9002 : ignoring unknown option '-O3'\n",
      "  richdem.cpp\n",
      "  \"C:\\Program Files (x86)\\Microsoft Visual Studio\\2022\\BuildTools\\VC\\Tools\\MSVC\\14.38.33130\\bin\\HostX86\\x64\\cl.exe\" /c /nologo /O2 /W3 /GL /DNDEBUG /MD -DDOCTEST_CONFIG_DISABLE -DRICHDEM_COMPILE_TIME=\\\"\\\\\\\"Unknown\\\\\\\"\\\" -DRICHDEM_GIT_HASH=\\\"\\\\\\\"Unknown\\\\\\\"\\\" -DRICHDEM_LOGGING -D_USE_MATH_DEFINES -Ilib/ \"-IC:\\Program Files\\WindowsApps\\PythonSoftwareFoundation.Python.3.11_3.11.2544.0_x64__qbz5n2kfra8p0\\include\" \"-IC:\\Program Files\\WindowsApps\\PythonSoftwareFoundation.Python.3.11_3.11.2544.0_x64__qbz5n2kfra8p0\\Include\" \"-IC:\\Program Files (x86)\\Microsoft Visual Studio\\2022\\BuildTools\\VC\\Tools\\MSVC\\14.38.33130\\include\" \"-IC:\\Program Files (x86)\\Microsoft Visual Studio\\2022\\BuildTools\\VC\\Auxiliary\\VS\\include\" \"-IC:\\Program Files (x86)\\Windows Kits\\10\\include\\10.0.22621.0\\ucrt\" \"-IC:\\Program Files (x86)\\Windows Kits\\10\\\\include\\10.0.22621.0\\\\um\" \"-IC:\\Program Files (x86)\\Windows Kits\\10\\\\include\\10.0.22621.0\\\\shared\" \"-IC:\\Program Files (x86)\\Windows Kits\\10\\\\include\\10.0.22621.0\\\\winrt\" \"-IC:\\Program Files (x86)\\Windows Kits\\10\\\\include\\10.0.22621.0\\\\cppwinrt\" /EHsc /Tpsrc\\pywrapper.cpp /Fobuild\\temp.win-amd64-cpython-311\\Release\\src\\pywrapper.obj -std=c++11 -g -fvisibility=hidden -O3\n",
      "  cl : Command line warning D9002 : ignoring unknown option '-std=c++11'\n",
      "  cl : Command line warning D9002 : ignoring unknown option '-g'\n",
      "  cl : Command line warning D9002 : ignoring unknown option '-fvisibility=hidden'\n",
      "  cl : Command line warning D9002 : ignoring unknown option '-O3'\n",
      "  pywrapper.cpp\n",
      "  C:\\Users\\kazii\\AppData\\Local\\Temp\\pip-install-z1uguioa\\richdem_7172380235fc453ab65636eb46380f81\\lib\\pybind11\\cast.h(441): error C2027: use of undefined type '_frame'\n",
      "  C:\\Program Files\\WindowsApps\\PythonSoftwareFoundation.Python.3.11_3.11.2544.0_x64__qbz5n2kfra8p0\\include\\pytypedefs.h(22): note: see declaration of '_frame'\n",
      "  C:\\Users\\kazii\\AppData\\Local\\Temp\\pip-install-z1uguioa\\richdem_7172380235fc453ab65636eb46380f81\\lib\\pybind11\\cast.h(443): error C2027: use of undefined type '_frame'\n",
      "  C:\\Program Files\\WindowsApps\\PythonSoftwareFoundation.Python.3.11_3.11.2544.0_x64__qbz5n2kfra8p0\\include\\pytypedefs.h(22): note: see declaration of '_frame'\n",
      "  C:\\Users\\kazii\\AppData\\Local\\Temp\\pip-install-z1uguioa\\richdem_7172380235fc453ab65636eb46380f81\\lib\\pybind11\\cast.h(444): error C2027: use of undefined type '_frame'\n",
      "  C:\\Program Files\\WindowsApps\\PythonSoftwareFoundation.Python.3.11_3.11.2544.0_x64__qbz5n2kfra8p0\\include\\pytypedefs.h(22): note: see declaration of '_frame'\n",
      "  lib/pybind11/pybind11.h(1890): error C2039: 'frame': is not a member of '_ts'\n",
      "  C:\\Program Files\\WindowsApps\\PythonSoftwareFoundation.Python.3.11_3.11.2544.0_x64__qbz5n2kfra8p0\\include\\cpython/pystate.h(82): note: see declaration of '_ts'\n",
      "  lib/pybind11/pybind11.h(1891): error C2027: use of undefined type '_frame'\n",
      "  C:\\Program Files\\WindowsApps\\PythonSoftwareFoundation.Python.3.11_3.11.2544.0_x64__qbz5n2kfra8p0\\include\\pytypedefs.h(22): note: see declaration of '_frame'\n",
      "  lib/pybind11/pybind11.h(1892): error C2027: use of undefined type '_frame'\n",
      "  C:\\Program Files\\WindowsApps\\PythonSoftwareFoundation.Python.3.11_3.11.2544.0_x64__qbz5n2kfra8p0\\include\\pytypedefs.h(22): note: see declaration of '_frame'\n",
      "  lib/pybind11/pybind11.h(1895): error C2027: use of undefined type '_frame'\n",
      "  C:\\Program Files\\WindowsApps\\PythonSoftwareFoundation.Python.3.11_3.11.2544.0_x64__qbz5n2kfra8p0\\include\\pytypedefs.h(22): note: see declaration of '_frame'\n",
      "  lib/pybind11/pybind11.h(1895): error C2027: use of undefined type '_frame'\n",
      "  C:\\Program Files\\WindowsApps\\PythonSoftwareFoundation.Python.3.11_3.11.2544.0_x64__qbz5n2kfra8p0\\include\\pytypedefs.h(22): note: see declaration of '_frame'\n",
      "  lib/pybind11/pybind11.h(1894): error C2660: 'PyDict_GetItem': function does not take 1 arguments\n",
      "  C:\\Program Files\\WindowsApps\\PythonSoftwareFoundation.Python.3.11_3.11.2544.0_x64__qbz5n2kfra8p0\\include\\dictobject.h(22): note: see declaration of 'PyDict_GetItem'\n",
      "  lib/pybind11/pybind11.h(1894): note: while trying to match the argument list '()'\n",
      "  lib/pybind11/numpy.h(35): error C2065: 'ssize_t': undeclared identifier\n",
      "  lib/pybind11/numpy.h(35): error C2338: static_assert failed: 'ssize_t != Py_intptr_t'\n",
      "  src\\pywrapper.cpp(226): warning C4244: 'argument': conversion from 'const pybind11::ssize_t' to 'const richdem::Array3D<float>::xy_t', possible loss of data\n",
      "  src\\pywrapper.cpp(226): warning C4244: 'argument': conversion from 'const pybind11::ssize_t' to 'const richdem::Array3D<float>::xy_t', possible loss of data\n",
      "  error: command 'C:\\\\Program Files (x86)\\\\Microsoft Visual Studio\\\\2022\\\\BuildTools\\\\VC\\\\Tools\\\\MSVC\\\\14.38.33130\\\\bin\\\\HostX86\\\\x64\\\\cl.exe' failed with exit code 2\n",
      "  [end of output]\n",
      "  \n",
      "  note: This error originates from a subprocess, and is likely not a problem with pip.\n",
      "  ERROR: Failed building wheel for richdem\n",
      "ERROR: Could not build wheels for richdem, which is required to install pyproject.toml-based projects\n",
      "\n",
      "[notice] A new release of pip is available: 24.0 -> 25.0.1\n",
      "[notice] To update, run: C:\\Users\\kazii\\AppData\\Local\\Microsoft\\WindowsApps\\PythonSoftwareFoundation.Python.3.11_qbz5n2kfra8p0\\python.exe -m pip install --upgrade pip\n"
     ]
    }
   ],
   "source": [
    "pip install richdem"
   ]
  },
  {
   "cell_type": "markdown",
   "id": "c3150a31-1b00-45e5-abf8-b2c5548dce5d",
   "metadata": {},
   "source": [
    "##### At first, let's load the district shape file as a GeoDataFrame"
   ]
  },
  {
   "cell_type": "code",
   "execution_count": 1,
   "id": "eed8c2fe-be73-4d95-8d59-490e9be9cd22",
   "metadata": {},
   "outputs": [
    {
     "ename": "NameError",
     "evalue": "name 'Path' is not defined",
     "output_type": "error",
     "traceback": [
      "\u001b[1;31m---------------------------------------------------------------------------\u001b[0m",
      "\u001b[1;31mNameError\u001b[0m                                 Traceback (most recent call last)",
      "Cell \u001b[1;32mIn[1], line 1\u001b[0m\n\u001b[1;32m----> 1\u001b[0m dis_shp \u001b[38;5;241m=\u001b[39m \u001b[43mPath\u001b[49m(\u001b[38;5;124mr\u001b[39m\u001b[38;5;124m\"\u001b[39m\u001b[38;5;124mC:\u001b[39m\u001b[38;5;124m\\\u001b[39m\u001b[38;5;124mUsers\u001b[39m\u001b[38;5;124m\\\u001b[39m\u001b[38;5;124mkazii\u001b[39m\u001b[38;5;124m\\\u001b[39m\u001b[38;5;124mOneDrive - TUM\u001b[39m\u001b[38;5;124m\\\u001b[39m\u001b[38;5;124mDesktop\u001b[39m\u001b[38;5;124m\\\u001b[39m\u001b[38;5;124mUSGS_PyforHyd\u001b[39m\u001b[38;5;124m\\\u001b[39m\u001b[38;5;124mproject_1\u001b[39m\u001b[38;5;124m\\\u001b[39m\u001b[38;5;124mmonth1_watershed_delineation_terrain_analysis\u001b[39m\u001b[38;5;124m\\\u001b[39m\u001b[38;5;124mdem\u001b[39m\u001b[38;5;124m\\\u001b[39m\u001b[38;5;124mgermany_Districts_level_3\u001b[39m\u001b[38;5;124m\\\u001b[39m\u001b[38;5;124mgermany_Districts_level_3.shp\u001b[39m\u001b[38;5;124m\"\u001b[39m)\n\u001b[0;32m      2\u001b[0m result_path \u001b[38;5;241m=\u001b[39m Path(\u001b[38;5;124mr\u001b[39m\u001b[38;5;124m\"\u001b[39m\u001b[38;5;124mC:\u001b[39m\u001b[38;5;124m\\\u001b[39m\u001b[38;5;124mUsers\u001b[39m\u001b[38;5;124m\\\u001b[39m\u001b[38;5;124mkazii\u001b[39m\u001b[38;5;124m\\\u001b[39m\u001b[38;5;124mOneDrive - TUM\u001b[39m\u001b[38;5;124m\\\u001b[39m\u001b[38;5;124mDesktop\u001b[39m\u001b[38;5;124m\\\u001b[39m\u001b[38;5;124mUSGS_PyforHyd\u001b[39m\u001b[38;5;124m\\\u001b[39m\u001b[38;5;124mproject_1\u001b[39m\u001b[38;5;124m\\\u001b[39m\u001b[38;5;124mmonth1_watershed_delineation_terrain_analysis\u001b[39m\u001b[38;5;124m\\\u001b[39m\u001b[38;5;124mresults\u001b[39m\u001b[38;5;124m\"\u001b[39m)\n",
      "\u001b[1;31mNameError\u001b[0m: name 'Path' is not defined"
     ]
    }
   ],
   "source": [
    "dis_shp = Path(r\"C:\\Users\\kazii\\OneDrive - TUM\\Desktop\\USGS_PyforHyd\\project_1\\month1_watershed_delineation_terrain_analysis\\dem\\germany_Districts_level_3\\germany_Districts_level_3.shp\")\n",
    "result_path = Path(r\"C:\\Users\\kazii\\OneDrive - TUM\\Desktop\\USGS_PyforHyd\\project_1\\month1_watershed_delineation_terrain_analysis\\results\")"
   ]
  },
  {
   "cell_type": "code",
   "execution_count": null,
   "id": "4ef064e6-8dc8-4fd7-9e72-fd8835c2c737",
   "metadata": {},
   "outputs": [],
   "source": [
    "districts = gpd.read_file(dis_shp)\n",
    "districts"
   ]
  },
  {
   "cell_type": "markdown",
   "id": "d9c532d5-2ea6-4ec1-b92c-3e45185b56c1",
   "metadata": {},
   "source": [
    "##### Now, let's extract our area of interest \"Esslingen\", located at the Stuttgart district of Germany, as a different GeoDataFrame"
   ]
  },
  {
   "cell_type": "code",
   "execution_count": null,
   "id": "cf92640b-ece6-45da-bf8c-e3650c4fa124",
   "metadata": {},
   "outputs": [],
   "source": [
    "esslingen_df = districts[districts['shape3'] == 'Esslingen']\n",
    "display(esslingen_df)\n",
    "\n",
    "#visualize the study area\n",
    "fig, ax = plt.subplots(figsize=(7, 7))\n",
    "esslingen_df.plot(ax=ax, edgecolor='black')\n",
    "ax.set_title('Study Area: Esslingen, Stuttguart')\n",
    "ax.set_xlabel('Longitude')\n",
    "ax.set_ylabel('Latitude')\n",
    "ax.set_facecolor('lightgray')\n",
    "\n",
    "#fig.savefig(result_path/'study_area_vector.jpg', dpi=300)"
   ]
  },
  {
   "cell_type": "markdown",
   "id": "734b3638-3436-48ba-820b-e76dfcdc287c",
   "metadata": {},
   "source": [
    "##### Now load the downloaded raster tiles, include them in a dictionary and have a look on them"
   ]
  },
  {
   "cell_type": "code",
   "execution_count": null,
   "id": "37187eaf-7b18-4259-a8cc-f777c5554ccb",
   "metadata": {},
   "outputs": [],
   "source": [
    "dem_path = Path(r\"C:\\Users\\kazii\\OneDrive - TUM\\Desktop\\USGS_PyforHyd\\project_1\\month1_watershed_delineation_terrain_analysis\\dem\\esslingen_srtm_bulk\")"
   ]
  },
  {
   "cell_type": "code",
   "execution_count": null,
   "id": "c4d8c06e-f1c0-49e1-b7e7-dd5d68cc1ce0",
   "metadata": {},
   "outputs": [],
   "source": [
    "tile1 = dem_path/'tile1.tif'\n",
    "tile2 = dem_path/'tile2.tif'\n",
    "tile3 = dem_path/'tile3.tif'\n",
    "tile4 = dem_path/'tile4.tif'\n",
    "\n",
    "input_rasters = {\n",
    "    'tile1': tile1,\n",
    "    'tile2': tile2,\n",
    "    'tile3': tile3,\n",
    "    'tile4': tile4\n",
    "}"
   ]
  },
  {
   "cell_type": "code",
   "execution_count": null,
   "id": "466cd9aa-0eb3-4da5-a421-db2ea66b8529",
   "metadata": {},
   "outputs": [],
   "source": [
    "from rasterio.plot import show"
   ]
  },
  {
   "cell_type": "code",
   "execution_count": null,
   "id": "3504b1e4-0769-45ea-8660-46cd552c7fa6",
   "metadata": {},
   "outputs": [],
   "source": [
    "meta = {}\n",
    "src_to_mosaic = []\n",
    "fig, axes = plt.subplots(2, 2, figsize=(16,16))\n",
    "for i, (tile, file) in enumerate(input_rasters.items()):\n",
    "    with rasterio.open(file) as src:\n",
    "\n",
    "        data = src.read(1)\n",
    "        vmax, vmin = data.max(), data.min()\n",
    "        meta[tile] = src.meta\n",
    "        src_to_mosaic.append(src)\n",
    "        \n",
    "        ax = axes.flat[i]\n",
    "        show(src, ax=ax, vmax=vmax, vmin=vmin, cmap='terrain')\n",
    "        ax.set_title(tile)\n",
    "        ax.set_facecolor('lightgrey')\n",
    "        ax.set_xlabel('Longitude')\n",
    "        ax.set_ylabel('Latitude')\n",
    "        plt.colorbar(ax.images[0], ax=ax, label='Elevation, m', shrink=0.8)\n",
    "fig.suptitle('Raster Tiles Covering the Study Area', fontsize=20, y=0.90)\n",
    "#fig.savefig(result_path/'all_tiles.jpg')\n"
   ]
  },
  {
   "cell_type": "code",
   "execution_count": null,
   "id": "b695a5b8-5a4f-41c3-8664-7dfbe4b7a39e",
   "metadata": {},
   "outputs": [],
   "source": [
    "meta['tile1']"
   ]
  },
  {
   "cell_type": "markdown",
   "id": "b23958e1-0358-486b-8ee6-092dc327e05b",
   "metadata": {},
   "source": [
    "##### As our study area is covered by 4 seperate raster tiles, at this point, let's merge the them and get a single DEM tile"
   ]
  },
  {
   "cell_type": "code",
   "execution_count": null,
   "id": "f39bd7b4-7473-416f-b57d-b8184c87c78d",
   "metadata": {},
   "outputs": [],
   "source": [
    "from rasterio.merge import merge"
   ]
  },
  {
   "cell_type": "code",
   "execution_count": null,
   "id": "97b924f3-b8e3-4ae3-b28e-eb507f06b37c",
   "metadata": {},
   "outputs": [],
   "source": [
    "#listiling the datasets to mosaic\n",
    "src_to_mosaic = [rasterio.open(file) for (tile, file) in input_rasters.items()]\n",
    "\n",
    "#merging\n",
    "mosaic, out_transform = merge(src_to_mosaic)\n",
    "\n",
    "#preparing metadata of the merged raster\n",
    "out_meta = src_to_mosaic[0].meta.copy()\n",
    "out_meta.update({\n",
    "    'height': mosaic.shape[1],\n",
    "    'width': mosaic.shape[2],\n",
    "    'transform': out_transform,\n",
    "    'driver': 'GTiff'\n",
    "})\n",
    "\n",
    "#writing the merged dem as a new raster file\n",
    "outfile = dem_path/'merged_dem.tif'\n",
    "\n",
    "with rasterio.open(outfile, 'w', **out_meta) as dest:\n",
    "    dest.write(mosaic)\n",
    "\n",
    "for src in src_to_mosaic:\n",
    "    src.close()"
   ]
  },
  {
   "cell_type": "code",
   "execution_count": null,
   "id": "d639b78e-0c77-44f8-94e3-c78c9c355ccc",
   "metadata": {},
   "outputs": [],
   "source": [
    "#visualize the merged raster\n",
    "merged_dem = dem_path/'merged_dem.tif'\n",
    "\n",
    "fig, ax = plt.subplots(figsize=(8, 8))\n",
    "with rasterio.open(merged_dem) as src:\n",
    "    data = src.read(1)\n",
    "    vmax = data.max()\n",
    "    vmin = data.min()\n",
    "    merged_dem_meta = src.meta\n",
    "    \n",
    "    show(src, ax=ax, vmax=vmax, vmin=vmin, cmap='terrain')\n",
    "    ax.set_title('Merged Raster tile')\n",
    "    ax.set_xlabel('Longitude')\n",
    "    ax.set_ylabel('Latitude')\n",
    "    plt.colorbar(ax.images[0], ax=ax, shrink=0.8, label='Elevation, m')\n",
    "#fig.savefig(result_path/'merged_tiles.jpg')"
   ]
  },
  {
   "cell_type": "markdown",
   "id": "debdc1e5-2733-426c-b09c-b21a6df0a4d2",
   "metadata": {},
   "source": [
    "##### Let's clip the merged raster tile to the extend of our study area using the study area vector"
   ]
  },
  {
   "cell_type": "code",
   "execution_count": null,
   "id": "0945fd79-ce74-46ac-9a48-198c7bad1cb3",
   "metadata": {},
   "outputs": [],
   "source": [
    "#the raster and vector needs to be in the same crs\n",
    "print(f\"The raster and the vector have same crs: {merged_dem_meta['crs'] == esslingen_df.crs}\")\n",
    "print(f\"Raster's crs: {merged_dem_meta['crs']}\")\n",
    "print(f\"Vector's crs: {esslingen_df.crs}\")"
   ]
  },
  {
   "cell_type": "code",
   "execution_count": null,
   "id": "cb0cf363-58a3-41fd-9dc9-0484600dc189",
   "metadata": {},
   "outputs": [],
   "source": [
    "from rasterio.mask import mask"
   ]
  },
  {
   "cell_type": "code",
   "execution_count": null,
   "id": "ed8956e8-42f3-472c-912f-8ff356b19b8b",
   "metadata": {},
   "outputs": [],
   "source": [
    "#clip the raster\n",
    "with rasterio.open(merged_dem) as src:\n",
    "    out_array, out_transform = mask(src, esslingen_df.geometry, crop=True)\n",
    "    out_meta = src.meta.copy()\n",
    "\n",
    "#update metadata for writing new clipped raster\n",
    "out_meta.update({\n",
    "    'height': out_array.shape[1],\n",
    "    'width': out_array.shape[2],\n",
    "    'transform': out_transform\n",
    "})\n",
    "\n",
    "#write/save the new clipped raster\n",
    "clipped_dem = dem_path/'clipped_dem.tif'\n",
    "with rasterio.open(clipped_dem, 'w', **out_meta) as dest:\n",
    "    dest.write(out_array)"
   ]
  },
  {
   "cell_type": "code",
   "execution_count": null,
   "id": "8026c746-1ecd-40c4-84c6-acf2a93a0217",
   "metadata": {},
   "outputs": [],
   "source": [
    "#visualize the clipped raster\n",
    "fig, ax = plt.subplots()\n",
    "with rasterio.open(clipped_dem) as src:\n",
    "    data = src.read(1)\n",
    "    vmax = data.max()\n",
    "    vmin = data.min()\n",
    "    show(src, ax=ax, cmap='terrain')\n",
    "    ax.set_title('DEM of Esslingen')\n",
    "    ax.set_xlabel('Longitude')\n",
    "    ax.set_ylabel('Latitude')\n",
    "    ax.set_aspect('equal')\n",
    "    plt.colorbar(ax.images[0], ax=ax, shrink=0.3, label='Elevation, m')\n",
    "#fig.savefig(result_path/'clipped_dem.jpg')"
   ]
  },
  {
   "cell_type": "code",
   "execution_count": null,
   "id": "48478b9b-0793-428f-a0fe-fd1021170f99",
   "metadata": {},
   "outputs": [],
   "source": [
    "pip install GDAL"
   ]
  },
  {
   "cell_type": "code",
   "execution_count": null,
   "id": "059b8daa-2ea8-4a0e-9a5e-5fe916b67044",
   "metadata": {},
   "outputs": [],
   "source": [
    "!pip install richdem"
   ]
  },
  {
   "cell_type": "code",
   "execution_count": null,
   "id": "2cf29b62-a393-4c9a-a78f-cc1d124fe8a0",
   "metadata": {},
   "outputs": [],
   "source": [
    "import richdem as rd"
   ]
  },
  {
   "cell_type": "code",
   "execution_count": null,
   "id": "fb8a0d22-b3cf-4bba-a14f-851711631e17",
   "metadata": {},
   "outputs": [],
   "source": []
  }
 ],
 "metadata": {
  "kernelspec": {
   "display_name": "hydrogeo310",
   "language": "python",
   "name": "hydrogeo310"
  },
  "language_info": {
   "codemirror_mode": {
    "name": "ipython",
    "version": 3
   },
   "file_extension": ".py",
   "mimetype": "text/x-python",
   "name": "python",
   "nbconvert_exporter": "python",
   "pygments_lexer": "ipython3",
   "version": "3.10.17"
  }
 },
 "nbformat": 4,
 "nbformat_minor": 5
}
